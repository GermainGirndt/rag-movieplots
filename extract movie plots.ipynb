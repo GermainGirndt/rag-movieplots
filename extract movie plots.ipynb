{
 "cells": [
  {
   "cell_type": "code",
   "execution_count": null,
   "metadata": {},
   "outputs": [],
   "source": [
    "%pip install -r requirements.txt"
   ]
  },
  {
   "cell_type": "markdown",
   "metadata": {},
   "source": [
    "First run plain question through LLM.\n",
    " - Some movie plots may not be available or well represented in the general model."
   ]
  },
  {
   "cell_type": "code",
   "execution_count": null,
   "metadata": {},
   "outputs": [],
   "source": [
    "import os\n",
    "from langchain.prompts import PromptTemplate\n",
    "from langchain.chains import LLMChain\n",
    "from langchain.llms import GPT4All\n",
    "import gpt4all as g4a\n",
    "\n",
    "# load local model\n",
    "# model = g4a.GPT4All(\"llama-2-7b-chat.ggmlv3.q4_0.bin\") # use this to download and store the model locally.\n",
    "llm = GPT4All(model=os.path.expanduser(\"~/.cache/gpt4all/llama-2-7b-chat.ggmlv3.q4_0.bin\"))\n",
    "\n",
    "template = \"\"\"Question: {question}\n",
    "\n",
    "Answer including relevant infos for movie, e.g. genre, director, etc.:\"\"\"\n",
    "\n",
    "prompt = PromptTemplate(template=template, input_variables=[\"question\"])\n",
    "llm_chain = LLMChain(prompt=prompt, llm=llm)"
   ]
  },
  {
   "cell_type": "code",
   "execution_count": 2,
   "metadata": {},
   "outputs": [
    {
     "data": {
      "text/plain": [
       "'\\n\\n\"A Touch of Zen\" is a 2001 Taiwanese film directed by Hou Hsiao-hsien and starring Shu Qi and Honglei Sun. It is a drama/thriller that explores themes of identity, memory, and the blurring of reality and fantasy. The movie follows a young woman named Aiyuan as she navigates her way through a complex web of relationships and events, all while trying to uncover the truth about her past.\\n\\nThe film is notable for its slow pacing and long takes, which create a sense of hypnotic immersion in the story. The cinematography is also striking, with a focus on muted colors and natural lighting that adds to the dreamlike atmosphere.\\n\\n\"A Touch of Zen\" was well-received by critics and audiences alike, and it has since become a cult classic. It won several awards at film festivals around the world, including the Golden Lion award at the Venice Film Festival in 2001.'"
      ]
     },
     "execution_count": 2,
     "metadata": {},
     "output_type": "execute_result"
    }
   ],
   "source": [
    "question = \"\"\"Tell me about the movie \\\"A Touch of Zen\\\".\"\"\"\n",
    "llm_chain.run(question)"
   ]
  },
  {
   "cell_type": "markdown",
   "metadata": {},
   "source": [
    "LLM response might contain \"hallucinations\". \n",
    "E.g. the movie was released in 1971 and not 2001.\n",
    "\n",
    "With Retrieval Augmented Generation the LLM answer can be improved.\n",
    "\n",
    "<img src=\"images/RAG.png\" alt=\"Retrieval Augmented Generation\" width=\"30%\" height=\"auto\" class=\"blog-image\">"
   ]
  },
  {
   "cell_type": "markdown",
   "metadata": {},
   "source": [
    "Add domain specific context from [data](https://www.kaggle.com/datasets/jrobischon/wikipedia-movie-plots/) containing ca. 35k movie plots\n",
    "\n",
    "<img src=\"images/data-card.png\" alt=\"Retrieval Augmented Generation\" width=\"40%\" height=\"auto\" class=\"blog-image\">\n",
    "\n",
    "- save each movie plot as a separate document"
   ]
  },
  {
   "cell_type": "code",
   "execution_count": 3,
   "metadata": {},
   "outputs": [],
   "source": [
    "import pandas as pd\n",
    "from langchain.embeddings import HuggingFaceEmbeddings\n",
    "from langchain.vectorstores import FAISS\n",
    "from langchain.document_loaders import DirectoryLoader\n",
    "\n",
    "def pretty_print_docs(docs):\n",
    "    print(f\"\\n{'-' * 100}\\n\".join([f\"Document {i+1}:\\n\\n\" + d.page_content for i, d in enumerate(docs)]))"
   ]
  },
  {
   "cell_type": "markdown",
   "metadata": {},
   "source": [
    "Create Vectorstore once\n",
    " - movie data is stored as embedding vectors for **semantic** search\n",
    " - Vectorstore index is persisted in folder faiss_index"
   ]
  },
  {
   "cell_type": "code",
   "execution_count": null,
   "metadata": {},
   "outputs": [],
   "source": [
    "plots = pd.read_csv('wiki_movie_plots_deduped.csv')\n",
    "for p in plots['Plot'][:3]:\n",
    "    print(p)\n",
    "    print()"
   ]
  },
  {
   "cell_type": "code",
   "execution_count": null,
   "metadata": {},
   "outputs": [],
   "source": [
    "# Store each movie plot as separate text file into folder\n",
    "os.makedirs('documents', exist_ok=True)\n",
    "\n",
    "for i, row in plots.iterrows():\n",
    "    with open(f'documents/plot_{i}.txt', 'w') as f:\n",
    "        txt = f\"\"\"\n",
    "Title: {str(row['Title'])}\n",
    "Release Year: {str(row['Release Year'])}\n",
    "Genre: {str(row['Genre'])}\n",
    "Ethnicity: {str(row['Origin/Ethnicity'])}\n",
    "Director: {str(row['Director'])}\n",
    "Cast: {str(row['Cast'])}\n",
    "Plot: {str(row['Plot'])}\n",
    "        \"\"\"\n",
    "        f.write(txt)"
   ]
  },
  {
   "cell_type": "code",
   "execution_count": null,
   "metadata": {},
   "outputs": [],
   "source": [
    "def create_index(directory):\n",
    "    loader = DirectoryLoader(directory)\n",
    "    docs = loader.load()\n",
    "\n",
    "    print(\"creating index\")\n",
    "\n",
    "    db = FAISS.from_documents(docs, embeddings)\n",
    "    db.save_local(\"faiss_index\")"
   ]
  },
  {
   "cell_type": "code",
   "execution_count": 4,
   "metadata": {},
   "outputs": [],
   "source": [
    "embeddings = HuggingFaceEmbeddings(model_name=\"all-mpnet-base-v2\")  # downloads to ~/.cache \n",
    "create_index('documents')  # initial vectore store creation. Comment out this line after index is created.\n",
    "db = FAISS.load_local(\"faiss_index\", embeddings)"
   ]
  },
  {
   "cell_type": "markdown",
   "metadata": {},
   "source": [
    "Extract movie infos\n",
    " - that match the question\n",
    " - use as context info (automated Prompt Engineering)"
   ]
  },
  {
   "cell_type": "code",
   "execution_count": 11,
   "metadata": {},
   "outputs": [
    {
     "name": "stderr",
     "output_type": "stream",
     "text": [
      "/Users/rag/github/test/movieplots/env/lib/python3.10/site-packages/langchain/chains/llm.py:280: UserWarning: The predict_and_parse method is deprecated, instead pass an output parser directly to LLMChain.\n",
      "  warnings.warn(\n",
      "LLaMA ERROR: The prompt is 2269 tokens and the context window is 2048!\n"
     ]
    },
    {
     "name": "stdout",
     "output_type": "stream",
     "text": [
      "Document 1:\n",
      "\n",
      "* Title: A Touch of Zen\n",
      "* Release Year: 1971\n",
      "* Director: King Hu\n",
      "* Cast: nan (no actors are mentioned)\n",
      "* Plot summary: The story is largely seen through the eyes of Gu, a well-meaning but unambitious scholar and painter who becomes involved in a plot to bring down corrupt officials.\n",
      "----------------------------------------------------------------------------------------------------\n",
      "Document 2:\n",
      "\n",
      "Title: Zenobia Release Year: 1939 Genre: comedy Ethnicity: American Director: Gordon Douglas Cast: Oliver Hardy, Harry Langdon, Billie Burke Plot: Dr. Henry Tibbett is called on by a travelling circus trainer to cure his sick elephant.\n",
      "NO OUTPUT\n",
      "----------------------------------------------------------------------------------------------------\n",
      "Document 3:\n",
      "\n",
      "ERROR: The prompt size exceeds the context window size and cannot be processed.\n",
      "----------------------------------------------------------------------------------------------------\n",
      "Document 4:\n",
      "\n",
      "Title: Zegen Release Year: 1987 Director: Shōhei Imamura Cast: Mitsuko Baisho Plot:\n"
     ]
    }
   ],
   "source": [
    "# compress if model has small token window size (2k)\n",
    "from langchain.retrievers import ContextualCompressionRetriever\n",
    "from langchain.retrievers.document_compressors import LLMChainExtractor\n",
    "from langchain.vectorstores import Chroma\n",
    "\n",
    "compressor = LLMChainExtractor.from_llm(llm)\n",
    "compression_retriever = ContextualCompressionRetriever(base_compressor=compressor, base_retriever=db.as_retriever())\n",
    "\n",
    "compressed_docs = compression_retriever.get_relevant_documents(question + \" Summarize the plot. In addition, state Title, Release Year, and Director.\")\n",
    "pretty_print_docs(compressed_docs)\n",
    "compressed_context = Chroma.from_documents(compressed_docs, embeddings)"
   ]
  },
  {
   "cell_type": "code",
   "execution_count": 12,
   "metadata": {},
   "outputs": [
    {
     "data": {
      "text/plain": [
       "' The movie \"A Touch of Zen\" was released in 1971 and directed by King Hu. It stars no actors, but follows the story of Gu, a well-meaning but unambitious scholar and painter who becomes involved in a plot to bring down corrupt officials.'"
      ]
     },
     "execution_count": 12,
     "metadata": {},
     "output_type": "execute_result"
    }
   ],
   "source": [
    "from langchain.chains import RetrievalQA\n",
    "\n",
    "qa_chain = RetrievalQA.from_chain_type(llm, retriever=compressed_context.as_retriever())\n",
    "qa_chain.run({\"query\": question})"
   ]
  },
  {
   "cell_type": "markdown",
   "metadata": {},
   "source": [
    "<!-- import gpt4all\n",
    "model = gpt4all.GPT4All(model_name=\"ggml-mpt-7b-chat.bin\") -->"
   ]
  }
 ],
 "metadata": {
  "kernelspec": {
   "display_name": "env",
   "language": "python",
   "name": "python3"
  },
  "language_info": {
   "codemirror_mode": {
    "name": "ipython",
    "version": 3
   },
   "file_extension": ".py",
   "mimetype": "text/x-python",
   "name": "python",
   "nbconvert_exporter": "python",
   "pygments_lexer": "ipython3",
   "version": "3.10.8"
  },
  "orig_nbformat": 4
 },
 "nbformat": 4,
 "nbformat_minor": 2
}
