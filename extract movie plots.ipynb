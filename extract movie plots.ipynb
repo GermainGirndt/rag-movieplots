{
 "cells": [
  {
   "cell_type": "code",
   "execution_count": 1,
   "metadata": {},
   "outputs": [
    {
     "name": "stdout",
     "output_type": "stream",
     "text": [
      "Requirement already satisfied: pandas in /Users/germaingirndt/installs/anaconda/anaconda3/lib/python3.10/site-packages (from -r requirements.txt (line 1)) (1.5.3)\n",
      "Requirement already satisfied: faiss-cpu in /Users/germaingirndt/installs/anaconda/anaconda3/lib/python3.10/site-packages (from -r requirements.txt (line 2)) (1.8.0)\n",
      "Requirement already satisfied: langchain in /Users/germaingirndt/installs/anaconda/anaconda3/lib/python3.10/site-packages (from -r requirements.txt (line 3)) (0.1.15)\n",
      "Requirement already satisfied: sentence_transformers in /Users/germaingirndt/installs/anaconda/anaconda3/lib/python3.10/site-packages (from -r requirements.txt (line 4)) (2.6.1)\n",
      "Requirement already satisfied: gpt4all in /Users/germaingirndt/installs/anaconda/anaconda3/lib/python3.10/site-packages (from -r requirements.txt (line 5)) (2.4.0)\n",
      "Requirement already satisfied: chromadb in /Users/germaingirndt/installs/anaconda/anaconda3/lib/python3.10/site-packages (from -r requirements.txt (line 6)) (0.4.24)\n",
      "Requirement already satisfied: unstructured in /Users/germaingirndt/installs/anaconda/anaconda3/lib/python3.10/site-packages (from -r requirements.txt (line 7)) (0.13.2)\n",
      "Requirement already satisfied: SQLAlchemy==2.0.1 in /Users/germaingirndt/installs/anaconda/anaconda3/lib/python3.10/site-packages (from -r requirements.txt (line 8)) (2.0.1)\n",
      "Requirement already satisfied: typing-extensions>=4.2.0 in /Users/germaingirndt/installs/anaconda/anaconda3/lib/python3.10/site-packages (from SQLAlchemy==2.0.1->-r requirements.txt (line 8)) (4.11.0)\n",
      "Requirement already satisfied: python-dateutil>=2.8.1 in /Users/germaingirndt/installs/anaconda/anaconda3/lib/python3.10/site-packages (from pandas->-r requirements.txt (line 1)) (2.8.2)\n",
      "Requirement already satisfied: pytz>=2020.1 in /Users/germaingirndt/installs/anaconda/anaconda3/lib/python3.10/site-packages (from pandas->-r requirements.txt (line 1)) (2022.7)\n",
      "Requirement already satisfied: numpy>=1.21.0 in /Users/germaingirndt/installs/anaconda/anaconda3/lib/python3.10/site-packages (from pandas->-r requirements.txt (line 1)) (1.23.5)\n",
      "Requirement already satisfied: aiohttp<4.0.0,>=3.8.3 in /Users/germaingirndt/installs/anaconda/anaconda3/lib/python3.10/site-packages (from langchain->-r requirements.txt (line 3)) (3.9.3)\n",
      "Requirement already satisfied: langchain-core<0.2.0,>=0.1.41 in /Users/germaingirndt/installs/anaconda/anaconda3/lib/python3.10/site-packages (from langchain->-r requirements.txt (line 3)) (0.1.41)\n",
      "Requirement already satisfied: requests<3,>=2 in /Users/germaingirndt/installs/anaconda/anaconda3/lib/python3.10/site-packages (from langchain->-r requirements.txt (line 3)) (2.28.1)\n",
      "Requirement already satisfied: async-timeout<5.0.0,>=4.0.0 in /Users/germaingirndt/installs/anaconda/anaconda3/lib/python3.10/site-packages (from langchain->-r requirements.txt (line 3)) (4.0.3)\n",
      "Requirement already satisfied: tenacity<9.0.0,>=8.1.0 in /Users/germaingirndt/installs/anaconda/anaconda3/lib/python3.10/site-packages (from langchain->-r requirements.txt (line 3)) (8.2.3)\n",
      "Requirement already satisfied: langsmith<0.2.0,>=0.1.17 in /Users/germaingirndt/installs/anaconda/anaconda3/lib/python3.10/site-packages (from langchain->-r requirements.txt (line 3)) (0.1.45)\n",
      "Requirement already satisfied: PyYAML>=5.3 in /Users/germaingirndt/installs/anaconda/anaconda3/lib/python3.10/site-packages (from langchain->-r requirements.txt (line 3)) (6.0)\n",
      "Requirement already satisfied: dataclasses-json<0.7,>=0.5.7 in /Users/germaingirndt/installs/anaconda/anaconda3/lib/python3.10/site-packages (from langchain->-r requirements.txt (line 3)) (0.6.4)\n",
      "Requirement already satisfied: langchain-text-splitters<0.1,>=0.0.1 in /Users/germaingirndt/installs/anaconda/anaconda3/lib/python3.10/site-packages (from langchain->-r requirements.txt (line 3)) (0.0.1)\n",
      "Requirement already satisfied: pydantic<3,>=1 in /Users/germaingirndt/installs/anaconda/anaconda3/lib/python3.10/site-packages (from langchain->-r requirements.txt (line 3)) (2.6.4)\n",
      "Requirement already satisfied: langchain-community<0.1,>=0.0.32 in /Users/germaingirndt/installs/anaconda/anaconda3/lib/python3.10/site-packages (from langchain->-r requirements.txt (line 3)) (0.0.32)\n",
      "Requirement already satisfied: jsonpatch<2.0,>=1.33 in /Users/germaingirndt/installs/anaconda/anaconda3/lib/python3.10/site-packages (from langchain->-r requirements.txt (line 3)) (1.33)\n",
      "Requirement already satisfied: scikit-learn in /Users/germaingirndt/installs/anaconda/anaconda3/lib/python3.10/site-packages (from sentence_transformers->-r requirements.txt (line 4)) (1.2.1)\n",
      "Requirement already satisfied: huggingface-hub>=0.15.1 in /Users/germaingirndt/installs/anaconda/anaconda3/lib/python3.10/site-packages (from sentence_transformers->-r requirements.txt (line 4)) (0.22.2)\n",
      "Requirement already satisfied: scipy in /Users/germaingirndt/installs/anaconda/anaconda3/lib/python3.10/site-packages (from sentence_transformers->-r requirements.txt (line 4)) (1.10.0)\n",
      "Requirement already satisfied: tqdm in /Users/germaingirndt/installs/anaconda/anaconda3/lib/python3.10/site-packages (from sentence_transformers->-r requirements.txt (line 4)) (4.66.2)\n",
      "Requirement already satisfied: transformers<5.0.0,>=4.32.0 in /Users/germaingirndt/installs/anaconda/anaconda3/lib/python3.10/site-packages (from sentence_transformers->-r requirements.txt (line 4)) (4.39.3)\n",
      "Requirement already satisfied: torch>=1.11.0 in /Users/germaingirndt/installs/anaconda/anaconda3/lib/python3.10/site-packages (from sentence_transformers->-r requirements.txt (line 4)) (1.12.1)\n",
      "Requirement already satisfied: Pillow in /Users/germaingirndt/installs/anaconda/anaconda3/lib/python3.10/site-packages (from sentence_transformers->-r requirements.txt (line 4)) (9.4.0)\n",
      "Requirement already satisfied: fastapi>=0.95.2 in /Users/germaingirndt/installs/anaconda/anaconda3/lib/python3.10/site-packages (from chromadb->-r requirements.txt (line 6)) (0.110.1)\n",
      "Requirement already satisfied: kubernetes>=28.1.0 in /Users/germaingirndt/installs/anaconda/anaconda3/lib/python3.10/site-packages (from chromadb->-r requirements.txt (line 6)) (29.0.0)\n",
      "Requirement already satisfied: posthog>=2.4.0 in /Users/germaingirndt/installs/anaconda/anaconda3/lib/python3.10/site-packages (from chromadb->-r requirements.txt (line 6)) (3.5.0)\n",
      "Requirement already satisfied: tokenizers>=0.13.2 in /Users/germaingirndt/installs/anaconda/anaconda3/lib/python3.10/site-packages (from chromadb->-r requirements.txt (line 6)) (0.15.2)\n",
      "Requirement already satisfied: grpcio>=1.58.0 in /Users/germaingirndt/installs/anaconda/anaconda3/lib/python3.10/site-packages (from chromadb->-r requirements.txt (line 6)) (1.62.1)\n",
      "Requirement already satisfied: opentelemetry-api>=1.2.0 in /Users/germaingirndt/installs/anaconda/anaconda3/lib/python3.10/site-packages (from chromadb->-r requirements.txt (line 6)) (1.24.0)\n",
      "Requirement already satisfied: typer>=0.9.0 in /Users/germaingirndt/installs/anaconda/anaconda3/lib/python3.10/site-packages (from chromadb->-r requirements.txt (line 6)) (0.12.3)\n",
      "Requirement already satisfied: chroma-hnswlib==0.7.3 in /Users/germaingirndt/installs/anaconda/anaconda3/lib/python3.10/site-packages (from chromadb->-r requirements.txt (line 6)) (0.7.3)\n",
      "Requirement already satisfied: mmh3>=4.0.1 in /Users/germaingirndt/installs/anaconda/anaconda3/lib/python3.10/site-packages (from chromadb->-r requirements.txt (line 6)) (4.1.0)\n",
      "Requirement already satisfied: opentelemetry-exporter-otlp-proto-grpc>=1.2.0 in /Users/germaingirndt/installs/anaconda/anaconda3/lib/python3.10/site-packages (from chromadb->-r requirements.txt (line 6)) (1.24.0)\n",
      "Requirement already satisfied: pulsar-client>=3.1.0 in /Users/germaingirndt/installs/anaconda/anaconda3/lib/python3.10/site-packages (from chromadb->-r requirements.txt (line 6)) (3.4.0)\n",
      "Requirement already satisfied: importlib-resources in /Users/germaingirndt/installs/anaconda/anaconda3/lib/python3.10/site-packages (from chromadb->-r requirements.txt (line 6)) (6.1.1)\n",
      "Requirement already satisfied: orjson>=3.9.12 in /Users/germaingirndt/installs/anaconda/anaconda3/lib/python3.10/site-packages (from chromadb->-r requirements.txt (line 6)) (3.10.0)\n",
      "Requirement already satisfied: bcrypt>=4.0.1 in /Users/germaingirndt/installs/anaconda/anaconda3/lib/python3.10/site-packages (from chromadb->-r requirements.txt (line 6)) (4.1.2)\n",
      "Requirement already satisfied: overrides>=7.3.1 in /Users/germaingirndt/installs/anaconda/anaconda3/lib/python3.10/site-packages (from chromadb->-r requirements.txt (line 6)) (7.7.0)\n",
      "Requirement already satisfied: build>=1.0.3 in /Users/germaingirndt/installs/anaconda/anaconda3/lib/python3.10/site-packages (from chromadb->-r requirements.txt (line 6)) (1.2.1)\n",
      "Requirement already satisfied: onnxruntime>=1.14.1 in /Users/germaingirndt/installs/anaconda/anaconda3/lib/python3.10/site-packages (from chromadb->-r requirements.txt (line 6)) (1.17.1)\n",
      "Requirement already satisfied: opentelemetry-instrumentation-fastapi>=0.41b0 in /Users/germaingirndt/installs/anaconda/anaconda3/lib/python3.10/site-packages (from chromadb->-r requirements.txt (line 6)) (0.45b0)\n",
      "Requirement already satisfied: pypika>=0.48.9 in /Users/germaingirndt/installs/anaconda/anaconda3/lib/python3.10/site-packages (from chromadb->-r requirements.txt (line 6)) (0.48.9)\n",
      "Requirement already satisfied: opentelemetry-sdk>=1.2.0 in /Users/germaingirndt/installs/anaconda/anaconda3/lib/python3.10/site-packages (from chromadb->-r requirements.txt (line 6)) (1.24.0)\n",
      "Requirement already satisfied: uvicorn[standard]>=0.18.3 in /Users/germaingirndt/installs/anaconda/anaconda3/lib/python3.10/site-packages (from chromadb->-r requirements.txt (line 6)) (0.29.0)\n"
     ]
    },
    {
     "name": "stdout",
     "output_type": "stream",
     "text": [
      "Requirement already satisfied: emoji in /Users/germaingirndt/installs/anaconda/anaconda3/lib/python3.10/site-packages (from unstructured->-r requirements.txt (line 7)) (2.11.0)\n",
      "Requirement already satisfied: filetype in /Users/germaingirndt/installs/anaconda/anaconda3/lib/python3.10/site-packages (from unstructured->-r requirements.txt (line 7)) (1.2.0)\n",
      "Requirement already satisfied: langdetect in /Users/germaingirndt/installs/anaconda/anaconda3/lib/python3.10/site-packages (from unstructured->-r requirements.txt (line 7)) (1.0.9)\n",
      "Requirement already satisfied: backoff in /Users/germaingirndt/installs/anaconda/anaconda3/lib/python3.10/site-packages (from unstructured->-r requirements.txt (line 7)) (2.2.1)\n",
      "Requirement already satisfied: chardet in /Users/germaingirndt/installs/anaconda/anaconda3/lib/python3.10/site-packages (from unstructured->-r requirements.txt (line 7)) (4.0.0)\n",
      "Requirement already satisfied: nltk in /Users/germaingirndt/installs/anaconda/anaconda3/lib/python3.10/site-packages (from unstructured->-r requirements.txt (line 7)) (3.7)\n",
      "Requirement already satisfied: beautifulsoup4 in /Users/germaingirndt/installs/anaconda/anaconda3/lib/python3.10/site-packages (from unstructured->-r requirements.txt (line 7)) (4.11.1)\n",
      "Requirement already satisfied: unstructured-client<=0.18.0 in /Users/germaingirndt/installs/anaconda/anaconda3/lib/python3.10/site-packages (from unstructured->-r requirements.txt (line 7)) (0.8.1)\n",
      "Requirement already satisfied: tabulate in /Users/germaingirndt/installs/anaconda/anaconda3/lib/python3.10/site-packages (from unstructured->-r requirements.txt (line 7)) (0.8.10)\n",
      "Requirement already satisfied: lxml in /Users/germaingirndt/installs/anaconda/anaconda3/lib/python3.10/site-packages (from unstructured->-r requirements.txt (line 7)) (4.9.1)\n",
      "Requirement already satisfied: python-magic in /Users/germaingirndt/installs/anaconda/anaconda3/lib/python3.10/site-packages (from unstructured->-r requirements.txt (line 7)) (0.4.27)\n",
      "Requirement already satisfied: python-iso639 in /Users/germaingirndt/installs/anaconda/anaconda3/lib/python3.10/site-packages (from unstructured->-r requirements.txt (line 7)) (2024.2.7)\n",
      "Requirement already satisfied: wrapt in /Users/germaingirndt/installs/anaconda/anaconda3/lib/python3.10/site-packages (from unstructured->-r requirements.txt (line 7)) (1.14.1)\n",
      "Requirement already satisfied: rapidfuzz in /Users/germaingirndt/installs/anaconda/anaconda3/lib/python3.10/site-packages (from unstructured->-r requirements.txt (line 7)) (3.8.1)\n",
      "Requirement already satisfied: multidict<7.0,>=4.5 in /Users/germaingirndt/installs/anaconda/anaconda3/lib/python3.10/site-packages (from aiohttp<4.0.0,>=3.8.3->langchain->-r requirements.txt (line 3)) (6.0.5)\n",
      "Requirement already satisfied: attrs>=17.3.0 in /Users/germaingirndt/installs/anaconda/anaconda3/lib/python3.10/site-packages (from aiohttp<4.0.0,>=3.8.3->langchain->-r requirements.txt (line 3)) (22.1.0)\n",
      "Requirement already satisfied: frozenlist>=1.1.1 in /Users/germaingirndt/installs/anaconda/anaconda3/lib/python3.10/site-packages (from aiohttp<4.0.0,>=3.8.3->langchain->-r requirements.txt (line 3)) (1.4.1)\n",
      "Requirement already satisfied: yarl<2.0,>=1.0 in /Users/germaingirndt/installs/anaconda/anaconda3/lib/python3.10/site-packages (from aiohttp<4.0.0,>=3.8.3->langchain->-r requirements.txt (line 3)) (1.9.4)\n",
      "Requirement already satisfied: aiosignal>=1.1.2 in /Users/germaingirndt/installs/anaconda/anaconda3/lib/python3.10/site-packages (from aiohttp<4.0.0,>=3.8.3->langchain->-r requirements.txt (line 3)) (1.3.1)\n",
      "Requirement already satisfied: pyproject_hooks in /Users/germaingirndt/installs/anaconda/anaconda3/lib/python3.10/site-packages (from build>=1.0.3->chromadb->-r requirements.txt (line 6)) (1.0.0)\n",
      "Requirement already satisfied: tomli>=1.1.0 in /Users/germaingirndt/installs/anaconda/anaconda3/lib/python3.10/site-packages (from build>=1.0.3->chromadb->-r requirements.txt (line 6)) (2.0.1)\n",
      "Requirement already satisfied: packaging>=19.1 in /Users/germaingirndt/installs/anaconda/anaconda3/lib/python3.10/site-packages (from build>=1.0.3->chromadb->-r requirements.txt (line 6)) (23.2)\n",
      "Requirement already satisfied: typing-inspect<1,>=0.4.0 in /Users/germaingirndt/installs/anaconda/anaconda3/lib/python3.10/site-packages (from dataclasses-json<0.7,>=0.5.7->langchain->-r requirements.txt (line 3)) (0.9.0)\n",
      "Requirement already satisfied: marshmallow<4.0.0,>=3.18.0 in /Users/germaingirndt/installs/anaconda/anaconda3/lib/python3.10/site-packages (from dataclasses-json<0.7,>=0.5.7->langchain->-r requirements.txt (line 3)) (3.21.1)\n",
      "Requirement already satisfied: starlette<0.38.0,>=0.37.2 in /Users/germaingirndt/installs/anaconda/anaconda3/lib/python3.10/site-packages (from fastapi>=0.95.2->chromadb->-r requirements.txt (line 6)) (0.37.2)\n",
      "Requirement already satisfied: filelock in /Users/germaingirndt/installs/anaconda/anaconda3/lib/python3.10/site-packages (from huggingface-hub>=0.15.1->sentence_transformers->-r requirements.txt (line 4)) (3.9.0)\n",
      "Requirement already satisfied: fsspec>=2023.5.0 in /Users/germaingirndt/installs/anaconda/anaconda3/lib/python3.10/site-packages (from huggingface-hub>=0.15.1->sentence_transformers->-r requirements.txt (line 4)) (2024.3.1)\n",
      "Requirement already satisfied: jsonpointer>=1.9 in /Users/germaingirndt/installs/anaconda/anaconda3/lib/python3.10/site-packages (from jsonpatch<2.0,>=1.33->langchain->-r requirements.txt (line 3)) (2.1)\n",
      "Requirement already satisfied: six>=1.9.0 in /Users/germaingirndt/installs/anaconda/anaconda3/lib/python3.10/site-packages (from kubernetes>=28.1.0->chromadb->-r requirements.txt (line 6)) (1.16.0)\n",
      "Requirement already satisfied: websocket-client!=0.40.0,!=0.41.*,!=0.42.*,>=0.32.0 in /Users/germaingirndt/installs/anaconda/anaconda3/lib/python3.10/site-packages (from kubernetes>=28.1.0->chromadb->-r requirements.txt (line 6)) (0.58.0)\n",
      "Requirement already satisfied: certifi>=14.05.14 in /Users/germaingirndt/installs/anaconda/anaconda3/lib/python3.10/site-packages (from kubernetes>=28.1.0->chromadb->-r requirements.txt (line 6)) (2023.11.17)\n",
      "Requirement already satisfied: google-auth>=1.0.1 in /Users/germaingirndt/installs/anaconda/anaconda3/lib/python3.10/site-packages (from kubernetes>=28.1.0->chromadb->-r requirements.txt (line 6)) (2.29.0)\n",
      "Requirement already satisfied: urllib3>=1.24.2 in /Users/germaingirndt/installs/anaconda/anaconda3/lib/python3.10/site-packages (from kubernetes>=28.1.0->chromadb->-r requirements.txt (line 6)) (1.26.14)\n",
      "Requirement already satisfied: oauthlib>=3.2.2 in /Users/germaingirndt/installs/anaconda/anaconda3/lib/python3.10/site-packages (from kubernetes>=28.1.0->chromadb->-r requirements.txt (line 6)) (3.2.2)\n",
      "Requirement already satisfied: requests-oauthlib in /Users/germaingirndt/installs/anaconda/anaconda3/lib/python3.10/site-packages (from kubernetes>=28.1.0->chromadb->-r requirements.txt (line 6)) (2.0.0)\n",
      "Requirement already satisfied: flatbuffers in /Users/germaingirndt/installs/anaconda/anaconda3/lib/python3.10/site-packages (from onnxruntime>=1.14.1->chromadb->-r requirements.txt (line 6)) (24.3.25)\n",
      "Requirement already satisfied: sympy in /Users/germaingirndt/installs/anaconda/anaconda3/lib/python3.10/site-packages (from onnxruntime>=1.14.1->chromadb->-r requirements.txt (line 6)) (1.11.1)\n",
      "Requirement already satisfied: protobuf in /Users/germaingirndt/installs/anaconda/anaconda3/lib/python3.10/site-packages (from onnxruntime>=1.14.1->chromadb->-r requirements.txt (line 6)) (4.25.3)\n",
      "Requirement already satisfied: coloredlogs in /Users/germaingirndt/installs/anaconda/anaconda3/lib/python3.10/site-packages (from onnxruntime>=1.14.1->chromadb->-r requirements.txt (line 6)) (15.0.1)\n",
      "Requirement already satisfied: deprecated>=1.2.6 in /Users/germaingirndt/installs/anaconda/anaconda3/lib/python3.10/site-packages (from opentelemetry-api>=1.2.0->chromadb->-r requirements.txt (line 6)) (1.2.14)\n",
      "Requirement already satisfied: importlib-metadata<=7.0,>=6.0 in /Users/germaingirndt/installs/anaconda/anaconda3/lib/python3.10/site-packages (from opentelemetry-api>=1.2.0->chromadb->-r requirements.txt (line 6)) (7.0.0)\n",
      "Requirement already satisfied: googleapis-common-protos~=1.52 in /Users/germaingirndt/installs/anaconda/anaconda3/lib/python3.10/site-packages (from opentelemetry-exporter-otlp-proto-grpc>=1.2.0->chromadb->-r requirements.txt (line 6)) (1.63.0)\n",
      "Requirement already satisfied: opentelemetry-exporter-otlp-proto-common==1.24.0 in /Users/germaingirndt/installs/anaconda/anaconda3/lib/python3.10/site-packages (from opentelemetry-exporter-otlp-proto-grpc>=1.2.0->chromadb->-r requirements.txt (line 6)) (1.24.0)\n",
      "Requirement already satisfied: opentelemetry-proto==1.24.0 in /Users/germaingirndt/installs/anaconda/anaconda3/lib/python3.10/site-packages (from opentelemetry-exporter-otlp-proto-grpc>=1.2.0->chromadb->-r requirements.txt (line 6)) (1.24.0)\n",
      "Requirement already satisfied: opentelemetry-util-http==0.45b0 in /Users/germaingirndt/installs/anaconda/anaconda3/lib/python3.10/site-packages (from opentelemetry-instrumentation-fastapi>=0.41b0->chromadb->-r requirements.txt (line 6)) (0.45b0)\n",
      "Requirement already satisfied: opentelemetry-instrumentation-asgi==0.45b0 in /Users/germaingirndt/installs/anaconda/anaconda3/lib/python3.10/site-packages (from opentelemetry-instrumentation-fastapi>=0.41b0->chromadb->-r requirements.txt (line 6)) (0.45b0)\n",
      "Requirement already satisfied: opentelemetry-instrumentation==0.45b0 in /Users/germaingirndt/installs/anaconda/anaconda3/lib/python3.10/site-packages (from opentelemetry-instrumentation-fastapi>=0.41b0->chromadb->-r requirements.txt (line 6)) (0.45b0)\n",
      "Requirement already satisfied: opentelemetry-semantic-conventions==0.45b0 in /Users/germaingirndt/installs/anaconda/anaconda3/lib/python3.10/site-packages (from opentelemetry-instrumentation-fastapi>=0.41b0->chromadb->-r requirements.txt (line 6)) (0.45b0)\n",
      "Requirement already satisfied: setuptools>=16.0 in /Users/germaingirndt/installs/anaconda/anaconda3/lib/python3.10/site-packages (from opentelemetry-instrumentation==0.45b0->opentelemetry-instrumentation-fastapi>=0.41b0->chromadb->-r requirements.txt (line 6)) (65.6.3)\n",
      "Requirement already satisfied: asgiref~=3.0 in /Users/germaingirndt/installs/anaconda/anaconda3/lib/python3.10/site-packages (from opentelemetry-instrumentation-asgi==0.45b0->opentelemetry-instrumentation-fastapi>=0.41b0->chromadb->-r requirements.txt (line 6)) (3.8.1)\n"
     ]
    },
    {
     "name": "stdout",
     "output_type": "stream",
     "text": [
      "Requirement already satisfied: monotonic>=1.5 in /Users/germaingirndt/installs/anaconda/anaconda3/lib/python3.10/site-packages (from posthog>=2.4.0->chromadb->-r requirements.txt (line 6)) (1.6)\n",
      "Requirement already satisfied: annotated-types>=0.4.0 in /Users/germaingirndt/installs/anaconda/anaconda3/lib/python3.10/site-packages (from pydantic<3,>=1->langchain->-r requirements.txt (line 3)) (0.6.0)\n",
      "Requirement already satisfied: pydantic-core==2.16.3 in /Users/germaingirndt/installs/anaconda/anaconda3/lib/python3.10/site-packages (from pydantic<3,>=1->langchain->-r requirements.txt (line 3)) (2.16.3)\n",
      "Requirement already satisfied: charset-normalizer<3,>=2 in /Users/germaingirndt/installs/anaconda/anaconda3/lib/python3.10/site-packages (from requests<3,>=2->langchain->-r requirements.txt (line 3)) (2.1.1)\n",
      "Requirement already satisfied: idna<4,>=2.5 in /Users/germaingirndt/installs/anaconda/anaconda3/lib/python3.10/site-packages (from requests<3,>=2->langchain->-r requirements.txt (line 3)) (3.4)\n",
      "Requirement already satisfied: regex!=2019.12.17 in /Users/germaingirndt/installs/anaconda/anaconda3/lib/python3.10/site-packages (from transformers<5.0.0,>=4.32.0->sentence_transformers->-r requirements.txt (line 4)) (2022.7.9)\n",
      "Requirement already satisfied: safetensors>=0.4.1 in /Users/germaingirndt/installs/anaconda/anaconda3/lib/python3.10/site-packages (from transformers<5.0.0,>=4.32.0->sentence_transformers->-r requirements.txt (line 4)) (0.4.2)\n",
      "Requirement already satisfied: shellingham>=1.3.0 in /Users/germaingirndt/installs/anaconda/anaconda3/lib/python3.10/site-packages (from typer>=0.9.0->chromadb->-r requirements.txt (line 6)) (1.5.4)\n",
      "Requirement already satisfied: click>=8.0.0 in /Users/germaingirndt/installs/anaconda/anaconda3/lib/python3.10/site-packages (from typer>=0.9.0->chromadb->-r requirements.txt (line 6)) (8.0.4)\n",
      "Requirement already satisfied: rich>=10.11.0 in /Users/germaingirndt/installs/anaconda/anaconda3/lib/python3.10/site-packages (from typer>=0.9.0->chromadb->-r requirements.txt (line 6)) (13.7.1)\n",
      "Requirement already satisfied: jsonpath-python>=1.0.6 in /Users/germaingirndt/installs/anaconda/anaconda3/lib/python3.10/site-packages (from unstructured-client<=0.18.0->unstructured->-r requirements.txt (line 7)) (1.0.6)\n",
      "Requirement already satisfied: marshmallow-enum>=1.5.1 in /Users/germaingirndt/installs/anaconda/anaconda3/lib/python3.10/site-packages (from unstructured-client<=0.18.0->unstructured->-r requirements.txt (line 7)) (1.5.1)\n",
      "Requirement already satisfied: mypy-extensions>=0.4.3 in /Users/germaingirndt/installs/anaconda/anaconda3/lib/python3.10/site-packages (from unstructured-client<=0.18.0->unstructured->-r requirements.txt (line 7)) (0.4.3)\n",
      "Requirement already satisfied: pyparsing>=3.0.9 in /Users/germaingirndt/installs/anaconda/anaconda3/lib/python3.10/site-packages (from unstructured-client<=0.18.0->unstructured->-r requirements.txt (line 7)) (3.0.9)\n",
      "Requirement already satisfied: h11>=0.8 in /Users/germaingirndt/installs/anaconda/anaconda3/lib/python3.10/site-packages (from uvicorn[standard]>=0.18.3->chromadb->-r requirements.txt (line 6)) (0.14.0)\n",
      "Requirement already satisfied: uvloop!=0.15.0,!=0.15.1,>=0.14.0 in /Users/germaingirndt/installs/anaconda/anaconda3/lib/python3.10/site-packages (from uvicorn[standard]>=0.18.3->chromadb->-r requirements.txt (line 6)) (0.19.0)\n",
      "Requirement already satisfied: watchfiles>=0.13 in /Users/germaingirndt/installs/anaconda/anaconda3/lib/python3.10/site-packages (from uvicorn[standard]>=0.18.3->chromadb->-r requirements.txt (line 6)) (0.21.0)\n",
      "Requirement already satisfied: httptools>=0.5.0 in /Users/germaingirndt/installs/anaconda/anaconda3/lib/python3.10/site-packages (from uvicorn[standard]>=0.18.3->chromadb->-r requirements.txt (line 6)) (0.6.1)\n",
      "Requirement already satisfied: websockets>=10.4 in /Users/germaingirndt/installs/anaconda/anaconda3/lib/python3.10/site-packages (from uvicorn[standard]>=0.18.3->chromadb->-r requirements.txt (line 6)) (12.0)\n",
      "Requirement already satisfied: python-dotenv>=0.13 in /Users/germaingirndt/installs/anaconda/anaconda3/lib/python3.10/site-packages (from uvicorn[standard]>=0.18.3->chromadb->-r requirements.txt (line 6)) (1.0.1)\n",
      "Requirement already satisfied: soupsieve>1.2 in /Users/germaingirndt/installs/anaconda/anaconda3/lib/python3.10/site-packages (from beautifulsoup4->unstructured->-r requirements.txt (line 7)) (2.3.2.post1)\n",
      "Requirement already satisfied: joblib in /Users/germaingirndt/installs/anaconda/anaconda3/lib/python3.10/site-packages (from nltk->unstructured->-r requirements.txt (line 7)) (1.1.1)\n",
      "Requirement already satisfied: threadpoolctl>=2.0.0 in /Users/germaingirndt/installs/anaconda/anaconda3/lib/python3.10/site-packages (from scikit-learn->sentence_transformers->-r requirements.txt (line 4)) (2.2.0)\n",
      "Requirement already satisfied: cachetools<6.0,>=2.0.0 in /Users/germaingirndt/installs/anaconda/anaconda3/lib/python3.10/site-packages (from google-auth>=1.0.1->kubernetes>=28.1.0->chromadb->-r requirements.txt (line 6)) (5.3.3)\n",
      "Requirement already satisfied: rsa<5,>=3.1.4 in /Users/germaingirndt/installs/anaconda/anaconda3/lib/python3.10/site-packages (from google-auth>=1.0.1->kubernetes>=28.1.0->chromadb->-r requirements.txt (line 6)) (4.9)\n",
      "Requirement already satisfied: pyasn1-modules>=0.2.1 in /Users/germaingirndt/installs/anaconda/anaconda3/lib/python3.10/site-packages (from google-auth>=1.0.1->kubernetes>=28.1.0->chromadb->-r requirements.txt (line 6)) (0.2.8)\n",
      "Requirement already satisfied: zipp>=0.5 in /Users/germaingirndt/installs/anaconda/anaconda3/lib/python3.10/site-packages (from importlib-metadata<=7.0,>=6.0->opentelemetry-api>=1.2.0->chromadb->-r requirements.txt (line 6)) (3.11.0)\n",
      "Requirement already satisfied: markdown-it-py>=2.2.0 in /Users/germaingirndt/installs/anaconda/anaconda3/lib/python3.10/site-packages (from rich>=10.11.0->typer>=0.9.0->chromadb->-r requirements.txt (line 6)) (3.0.0)\n",
      "Requirement already satisfied: pygments<3.0.0,>=2.13.0 in /Users/germaingirndt/installs/anaconda/anaconda3/lib/python3.10/site-packages (from rich>=10.11.0->typer>=0.9.0->chromadb->-r requirements.txt (line 6)) (2.17.2)\n",
      "Requirement already satisfied: anyio<5,>=3.4.0 in /Users/germaingirndt/installs/anaconda/anaconda3/lib/python3.10/site-packages (from starlette<0.38.0,>=0.37.2->fastapi>=0.95.2->chromadb->-r requirements.txt (line 6)) (3.5.0)\n",
      "Requirement already satisfied: humanfriendly>=9.1 in /Users/germaingirndt/installs/anaconda/anaconda3/lib/python3.10/site-packages (from coloredlogs->onnxruntime>=1.14.1->chromadb->-r requirements.txt (line 6)) (10.0)\n",
      "Requirement already satisfied: mpmath>=0.19 in /Users/germaingirndt/installs/anaconda/anaconda3/lib/python3.10/site-packages/mpmath-1.2.1-py3.10.egg (from sympy->onnxruntime>=1.14.1->chromadb->-r requirements.txt (line 6)) (1.2.1)\n",
      "Requirement already satisfied: sniffio>=1.1 in /Users/germaingirndt/installs/anaconda/anaconda3/lib/python3.10/site-packages (from anyio<5,>=3.4.0->starlette<0.38.0,>=0.37.2->fastapi>=0.95.2->chromadb->-r requirements.txt (line 6)) (1.2.0)\n",
      "Requirement already satisfied: mdurl~=0.1 in /Users/germaingirndt/installs/anaconda/anaconda3/lib/python3.10/site-packages (from markdown-it-py>=2.2.0->rich>=10.11.0->typer>=0.9.0->chromadb->-r requirements.txt (line 6)) (0.1.2)\n",
      "Requirement already satisfied: pyasn1<0.5.0,>=0.4.6 in /Users/germaingirndt/installs/anaconda/anaconda3/lib/python3.10/site-packages (from pyasn1-modules>=0.2.1->google-auth>=1.0.1->kubernetes>=28.1.0->chromadb->-r requirements.txt (line 6)) (0.4.8)\n",
      "Note: you may need to restart the kernel to use updated packages.\n"
     ]
    }
   ],
   "source": [
    "%pip install -r requirements.txt"
   ]
  },
  {
   "cell_type": "markdown",
   "metadata": {},
   "source": [
    "First run plain question through LLM.\n",
    " - Some movie plots may not be available or well represented in the general model."
   ]
  },
  {
   "cell_type": "code",
   "execution_count": 2,
   "metadata": {},
   "outputs": [],
   "source": [
    "import os\n",
    "from langchain.prompts import PromptTemplate\n",
    "from langchain.chains import LLMChain\n",
    "from langchain.llms import GPT4All\n",
    "\n",
    "# load local model\n",
    "llm = GPT4All(model='nous-hermes-llama2-13b.Q4_0.gguf')\n",
    "template = \"\"\"Question: {question}\n",
    "\n",
    "Answer including relevant infos for movie, e.g. genre, director, etc.:\"\"\"\n",
    "\n",
    "prompt = PromptTemplate(template=template, input_variables=[\"question\"])\n",
    "llm_chain = LLMChain(prompt=prompt, llm=llm)"
   ]
  },
  {
   "cell_type": "code",
   "execution_count": 3,
   "metadata": {},
   "outputs": [
    {
     "data": {
      "text/plain": [
       "{'question': 'Tell me about the movie \"A Touch of Zen\".',\n",
       " 'text': ' A Touch of Zen is a 1971 Taiwanese wuxia film directed by King Hu and starring Feng Hsu, Tien Ching, and Yu-Hua Chang. The film follows the story of Yang, an artist who becomes entwined in political intrigue when he meets Wu Kong, a mysterious swordsman with ties to the martial arts world. A Touch of Zen is widely regarded as one of the greatest films ever made and has had a significant influence on the wuxia genre.'}"
      ]
     },
     "execution_count": 3,
     "metadata": {},
     "output_type": "execute_result"
    }
   ],
   "source": [
    "question = \"\"\"Tell me about the movie \\\"A Touch of Zen\\\".\"\"\"\n",
    "llm_chain.invoke(question)"
   ]
  },
  {
   "cell_type": "markdown",
   "metadata": {},
   "source": [
    "LLM response might contain \"hallucinations\". \n",
    "E.g. the movie was released in 1971 and not 2001.\n",
    "\n",
    "With Retrieval Augmented Generation the LLM answer can be improved.\n",
    "\n",
    "<img src=\"images/RAG.png\" alt=\"Retrieval Augmented Generation\" width=\"30%\" height=\"auto\" class=\"blog-image\">"
   ]
  },
  {
   "cell_type": "markdown",
   "metadata": {},
   "source": [
    "Add domain specific context from [data](https://www.kaggle.com/datasets/jrobischon/wikipedia-movie-plots/) containing ca. 35k movie plots\n",
    "\n",
    "<img src=\"images/data-card.png\" alt=\"Retrieval Augmented Generation\" width=\"40%\" height=\"auto\" class=\"blog-image\">\n",
    "\n",
    "- save each movie plot as a separate document"
   ]
  },
  {
   "cell_type": "code",
   "execution_count": 4,
   "metadata": {},
   "outputs": [],
   "source": [
    "import pandas as pd\n",
    "from langchain.embeddings import HuggingFaceEmbeddings\n",
    "from langchain.vectorstores import FAISS\n",
    "from langchain.document_loaders import DirectoryLoader\n",
    "\n",
    "def pretty_print_docs(docs):\n",
    "    print(f\"\\n{'-' * 100}\\n\".join([f\"Document {i+1}:\\n\\n\" + d.page_content for i, d in enumerate(docs)]))"
   ]
  },
  {
   "cell_type": "markdown",
   "metadata": {},
   "source": [
    "Create Vectorstore once\n",
    " - movie data is stored as embedding vectors for **semantic** search\n",
    " - Vectorstore index is persisted in folder faiss_index"
   ]
  },
  {
   "cell_type": "code",
   "execution_count": 5,
   "metadata": {},
   "outputs": [
    {
     "name": "stdout",
     "output_type": "stream",
     "text": [
      "A bartender is working at a saloon, serving drinks to customers. After he fills a stereotypically Irish man's bucket with beer, Carrie Nation and her followers burst inside. They assault the Irish man, pulling his hat over his eyes and then dumping the beer over his head. The group then begin wrecking the bar, smashing the fixtures, mirrors, and breaking the cash register. The bartender then sprays seltzer water in Nation's face before a group of policemen appear and order everybody to leave.[1]\n",
      "\n",
      "The moon, painted with a smiling face hangs over a park at night. A young couple walking past a fence learn on a railing and look up. The moon smiles. They embrace, and the moon's smile gets bigger. They then sit down on a bench by a tree. The moon's view is blocked, causing him to frown. In the last scene, the man fans the woman with his hat because the moon has left the sky and is perched over her shoulder to see everything better.\n",
      "\n",
      "The film, just over a minute long, is composed of two shots. In the first, a girl sits at the base of an altar or tomb, her face hidden from the camera. At the center of the altar, a viewing portal displays the portraits of three U.S. Presidents—Abraham Lincoln, James A. Garfield, and William McKinley—each victims of assassination.\r\n",
      "In the second shot, which runs just over eight seconds long, an assassin kneels feet of Lady Justice.\n",
      "\n"
     ]
    }
   ],
   "source": [
    "plots = pd.read_csv('wiki_movie_plots_deduped.csv')\n",
    "for p in plots['Plot'][:3]:\n",
    "    print(p)\n",
    "    print()"
   ]
  },
  {
   "cell_type": "code",
   "execution_count": 6,
   "metadata": {},
   "outputs": [],
   "source": [
    "# Store each movie plot as separate text file into folder\n",
    "os.makedirs('documents', exist_ok=True)\n",
    "\n",
    "for i, row in plots.iterrows():\n",
    "    with open(f'documents/plot_{i}.txt', 'w') as f:\n",
    "        txt = f\"\"\"\n",
    "Title: {str(row['Title'])}\n",
    "Release Year: {str(row['Release Year'])}\n",
    "Genre: {str(row['Genre'])}\n",
    "Ethnicity: {str(row['Origin/Ethnicity'])}\n",
    "Director: {str(row['Director'])}\n",
    "Cast: {str(row['Cast'])}\n",
    "Plot: {str(row['Plot'])}\n",
    "        \"\"\"\n",
    "        f.write(txt)"
   ]
  },
  {
   "cell_type": "code",
   "execution_count": 7,
   "metadata": {},
   "outputs": [],
   "source": [
    "def create_index(directory):\n",
    "    print(\"Loader...\")\n",
    "    loader = DirectoryLoader(directory)\n",
    "    docs = loader.load()\n",
    "\n",
    "    print(\"creating index\")\n",
    "\n",
    "    db = FAISS.from_documents(docs, embeddings)\n",
    "    print(\"Saving local index...\")\n",
    "    db.save_local(\"faiss_index\")"
   ]
  },
  {
   "cell_type": "code",
   "execution_count": 8,
   "metadata": {
    "scrolled": true
   },
   "outputs": [],
   "source": [
    "embeddings = HuggingFaceEmbeddings(model_name=\"all-mpnet-base-v2\")  # downloads to ~/.cache \n",
    "# Following line needs about 1h to create; and 3 to load.\n",
    "\n",
    "#Facebook AI Similarity Search (Faiss) is a library for efficient similarity search and clustering of dense vectors. It contains algorithms that search in sets of vectors of any size, up to ones that possibly do not fit in RAM. It also contains supporting code for evaluation and parameter tuning.\n",
    "\n",
    "\n",
    "#create_index('documents')  # initial vectore store creation. Comment out this line after index is created.\n",
    "db = FAISS.load_local(\"./faiss_index\", embeddings, allow_dangerous_deserialization=True)"
   ]
  },
  {
   "cell_type": "markdown",
   "metadata": {},
   "source": [
    "Extract movie infos\n",
    " - that match the question\n",
    " - use as context info (automated Prompt Engineering)"
   ]
  },
  {
   "cell_type": "code",
   "execution_count": 9,
   "metadata": {
    "scrolled": true
   },
   "outputs": [
    {
     "name": "stderr",
     "output_type": "stream",
     "text": [
      "/Users/germaingirndt/installs/anaconda/anaconda3/lib/python3.10/site-packages/langchain/chains/llm.py:316: UserWarning: The predict_and_parse method is deprecated, instead pass an output parser directly to LLMChain.\n",
      "  warnings.warn(\n",
      "/Users/germaingirndt/installs/anaconda/anaconda3/lib/python3.10/site-packages/langchain/chains/llm.py:316: UserWarning: The predict_and_parse method is deprecated, instead pass an output parser directly to LLMChain.\n",
      "  warnings.warn(\n",
      "/Users/germaingirndt/installs/anaconda/anaconda3/lib/python3.10/site-packages/langchain/chains/llm.py:316: UserWarning: The predict_and_parse method is deprecated, instead pass an output parser directly to LLMChain.\n",
      "  warnings.warn(\n",
      "LLaMA ERROR: The prompt is 2268 tokens and the context window is 2048!\n",
      "/Users/germaingirndt/installs/anaconda/anaconda3/lib/python3.10/site-packages/langchain/chains/llm.py:316: UserWarning: The predict_and_parse method is deprecated, instead pass an output parser directly to LLMChain.\n",
      "  warnings.warn(\n"
     ]
    },
    {
     "name": "stdout",
     "output_type": "stream",
     "text": [
      "Document 1:\n",
      "\n",
      "Title: A Touch of Zen Release Year: 1971 Genre: unknown Ethnicity: Hong Kong Director: King Hu Cast: nan Plot: A remote mountain village in Ming China, the 14th century AD. [a] The story is largely seen through the eyes of Gu, who is a well-meaning but unambitious scholar and painter, with a tendency towards being clumsy and ineffectual.\n",
      "----------------------------------------------------------------------------------------------------\n",
      "Document 2:\n",
      "\n",
      "Title - Zenobia Release Year - 1939 Genre - comedy Ethnicity - American Director - Gordon Douglas Cast - Oliver Hardy, Harry Langdon, Billie Burke Plot - Dr. Henry Tibbett is a country doctor who is called on by a travelling circus trainer to cure his sick elephant. After the doctor heals the grateful beast, the elephant becomes so attached to him that it starts to follow him everywhere. This leads to the trainer suing Dr. Tibbett for alienation of affection.\n",
      "----------------------------------------------------------------------------------------------------\n",
      "Document 3:\n",
      "\n",
      "ERROR: The prompt size exceeds the context window size and cannot be processed.>s, and the 1980s saw a resurgence of interest in this style.\n",
      "The term \"new wave\" was first used to describe music that emerged from the post-punk movement in England during the late '70s. It encompassed a wide range of styles, including punk rock, power pop, and synth-pop. The new wave sound often featured fast tempos, catchy melodies, and minimalist arrangements.\n",
      "The 1980s saw a resurgence of interest in this style, with many bands adopting the new wave sound as their own. Some of the most popular new wave bands of the '80s included Duran Duran, Culture Club, and The Cars. New wave music also had an impact on fashion, with bold colors and patterns becoming popular among fans of the genre.\n",
      "New Wave Music Genre Characteristics:\n",
      "- Fast tempos\n",
      "- Catchy melodies\n",
      "- Minimalist arrangements\n",
      "- Influenced by punk rock, power pop, and synth-pop\n",
      "- Often associated with fashion trends such as bold colors and patterns\n",
      "----------------------------------------------------------------------------------------------------\n",
      "Document 4:\n",
      "\n",
      "Title: Zegen Release Year: 1987 Genre: unknown Ethnicity: Japanese Director: Shōhei Imamura Cast: Mitsuko Baisho Plot: It is the story of Iheiji Muraoka, who built brothels for the Japanese military.\n"
     ]
    }
   ],
   "source": [
    "# compress if model has small token window size (2k)\n",
    "from langchain.retrievers import ContextualCompressionRetriever\n",
    "from langchain.retrievers.document_compressors import LLMChainExtractor\n",
    "from langchain.vectorstores import Chroma\n",
    "\n",
    "compressor = LLMChainExtractor.from_llm(llm)\n",
    "compression_retriever = ContextualCompressionRetriever(base_compressor=compressor, base_retriever=db.as_retriever())\n",
    "# A touch of Zen = plot_22997.txt\n",
    "compressed_docs = compression_retriever.get_relevant_documents(question + \" Summarize the plot. In addition, state Title, Release Year, and Director.\")\n",
    "pretty_print_docs(compressed_docs)\n",
    "compressed_context = Chroma.from_documents(compressed_docs, embeddings)"
   ]
  },
  {
   "cell_type": "code",
   "execution_count": 10,
   "metadata": {},
   "outputs": [
    {
     "name": "stderr",
     "output_type": "stream",
     "text": [
      "/Users/germaingirndt/installs/anaconda/anaconda3/lib/python3.10/site-packages/langchain_core/_api/deprecation.py:117: LangChainDeprecationWarning: The function `run` was deprecated in LangChain 0.1.0 and will be removed in 0.2.0. Use invoke instead.\n",
      "  warn_deprecated(\n"
     ]
    },
    {
     "data": {
      "text/plain": [
       "' A Touch of Zen is a 1971 Hong Kong film directed by King Hu. It is considered one of the greatest films in Chinese cinema history, known for its innovative use of wuxia elements and its influence on later martial arts films. The story takes place in Ming China during the 14th century AD and follows a well-meaning but unambitious scholar named Gu who becomes entangled in a web of intrigue involving a mysterious woman, an evil monk, and a group of bandits. The film is known for its stunning cinematography, complex plot, and epic battle scenes.'"
      ]
     },
     "execution_count": 10,
     "metadata": {},
     "output_type": "execute_result"
    }
   ],
   "source": [
    "from langchain.chains import RetrievalQA\n",
    "\n",
    "qa_chain = RetrievalQA.from_chain_type(llm, retriever=compressed_context.as_retriever())\n",
    "qa_chain.run({\"query\": question})"
   ]
  },
  {
   "cell_type": "markdown",
   "metadata": {},
   "source": [
    "<!-- import gpt4all\n",
    "model = gpt4all.GPT4All(model_name=\"ggml-mpt-7b-chat.bin\") -->"
   ]
  }
 ],
 "metadata": {
  "kernelspec": {
   "display_name": "Python 3 (ipykernel)",
   "language": "python",
   "name": "python3"
  },
  "language_info": {
   "codemirror_mode": {
    "name": "ipython",
    "version": 3
   },
   "file_extension": ".py",
   "mimetype": "text/x-python",
   "name": "python",
   "nbconvert_exporter": "python",
   "pygments_lexer": "ipython3",
   "version": "3.10.12"
  }
 },
 "nbformat": 4,
 "nbformat_minor": 2
}
